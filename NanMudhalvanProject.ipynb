{
  "nbformat": 4,
  "nbformat_minor": 0,
  "metadata": {
    "colab": {
      "provenance": []
    },
    "kernelspec": {
      "name": "python3",
      "display_name": "Python 3"
    },
    "language_info": {
      "name": "python"
    }
  },
  "cells": [
    {
      "cell_type": "code",
      "execution_count": 1,
      "metadata": {
        "colab": {
          "base_uri": "https://localhost:8080/"
        },
        "id": "UrdtJC2y6qge",
        "outputId": "36198779-0cbc-41e1-a27c-e6a4b9f8c4f2"
      },
      "outputs": [
        {
          "output_type": "stream",
          "name": "stdout",
          "text": [
            "Epoch 1/10\n",
            "25/25 [==============================] - 3s 34ms/step - loss: 1.1268 - accuracy: 0.3375 - val_loss: 1.1231 - val_accuracy: 0.3250\n",
            "Epoch 2/10\n",
            "25/25 [==============================] - 0s 16ms/step - loss: 1.0924 - accuracy: 0.3663 - val_loss: 1.1205 - val_accuracy: 0.3300\n",
            "Epoch 3/10\n",
            "25/25 [==============================] - 0s 14ms/step - loss: 1.0782 - accuracy: 0.4013 - val_loss: 1.1215 - val_accuracy: 0.3100\n",
            "Epoch 4/10\n",
            "25/25 [==============================] - 0s 14ms/step - loss: 1.0643 - accuracy: 0.4350 - val_loss: 1.1236 - val_accuracy: 0.3100\n",
            "Epoch 5/10\n",
            "25/25 [==============================] - 0s 15ms/step - loss: 1.0547 - accuracy: 0.4550 - val_loss: 1.1268 - val_accuracy: 0.2900\n",
            "Epoch 6/10\n",
            "25/25 [==============================] - 0s 12ms/step - loss: 1.0461 - accuracy: 0.4462 - val_loss: 1.1275 - val_accuracy: 0.3050\n",
            "Epoch 7/10\n",
            "25/25 [==============================] - 0s 18ms/step - loss: 1.0389 - accuracy: 0.4663 - val_loss: 1.1313 - val_accuracy: 0.3000\n",
            "Epoch 8/10\n",
            "25/25 [==============================] - 0s 18ms/step - loss: 1.0311 - accuracy: 0.4863 - val_loss: 1.1290 - val_accuracy: 0.3150\n",
            "Epoch 9/10\n",
            "25/25 [==============================] - 0s 14ms/step - loss: 1.0242 - accuracy: 0.4888 - val_loss: 1.1328 - val_accuracy: 0.3300\n",
            "Epoch 10/10\n",
            "25/25 [==============================] - 0s 15ms/step - loss: 1.0197 - accuracy: 0.4888 - val_loss: 1.1364 - val_accuracy: 0.3150\n",
            "7/7 [==============================] - 0s 4ms/step - loss: 1.1364 - accuracy: 0.3150\n",
            "Test Loss: 1.1364353895187378\n",
            "Test Accuracy: 0.3149999976158142\n"
          ]
        }
      ],
      "source": [
        "import numpy as np\n",
        "from keras.models import Sequential\n",
        "from keras.layers import Dense\n",
        "from sklearn.model_selection import train_test_split\n",
        "from sklearn.preprocessing import StandardScaler\n",
        "features = np.random.rand(1000, 10)\n",
        "labels = np.random.randint(0, 3, size=(1000,))\n",
        "X_train, X_test, y_train, y_test = train_test_split(features, labels, test_size=0.2, random_state=42)\n",
        "scaler = StandardScaler()\n",
        "X_train = scaler.fit_transform(X_train)\n",
        "X_test = scaler.transform(X_test)\n",
        "model = Sequential()\n",
        "model.add(Dense(64, input_dim=10, activation='relu'))\n",
        "model.add(Dense(32, activation='relu'))\n",
        "model.add(Dense(3, activation='softmax'))\n",
        "model.compile(optimizer='adam', loss='sparse_categorical_crossentropy', metrics=['accuracy'])\n",
        "model.fit(X_train, y_train, epochs=10, batch_size=32, validation_data=(X_test, y_test))\n",
        "loss, accuracy = model.evaluate(X_test, y_test)\n",
        "print(\"Test Loss:\", loss)\n",
        "print(\"Test Accuracy:\", accuracy)\n"
      ]
    }
  ]
}